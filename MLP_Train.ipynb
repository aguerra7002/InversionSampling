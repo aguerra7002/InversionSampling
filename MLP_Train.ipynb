{
 "cells": [
  {
   "cell_type": "code",
   "execution_count": 1,
   "id": "632c6499",
   "metadata": {},
   "outputs": [],
   "source": [
    "# Need this for matrix multiplication to work for some reason lol\n",
    "import os\n",
    "os.environ['KMP_DUPLICATE_LIB_OK']='True'"
   ]
  },
  {
   "cell_type": "code",
   "execution_count": 2,
   "id": "b95e9640",
   "metadata": {},
   "outputs": [],
   "source": [
    "# prerequisites\n",
    "import torch\n",
    "import torch.nn as nn\n",
    "import torch.nn.functional as F\n",
    "import torch.optim as optim\n",
    "from torchvision import datasets, transforms\n",
    "from torch.autograd import Variable\n",
    "from torchvision.utils import save_image\n",
    "\n",
    "import numpy as np\n",
    "\n",
    "from classifier import MLPClassifier\n",
    "\n",
    "import matplotlib.pyplot as plt"
   ]
  },
  {
   "cell_type": "code",
   "execution_count": 3,
   "id": "86a35d38",
   "metadata": {},
   "outputs": [],
   "source": [
    "bs = 128\n",
    "# MNIST Dataset\n",
    "train_dataset = datasets.MNIST(root='./mnist_data/', train=True, transform=transforms.ToTensor(), download=True)\n",
    "test_dataset = datasets.MNIST(root='./mnist_data/', train=False, transform=transforms.ToTensor(), download=False)\n",
    "\n",
    "# Data Loader (Input Pipeline)\n",
    "train_loader = torch.utils.data.DataLoader(dataset=train_dataset, batch_size=bs, shuffle=True)\n",
    "test_loader = torch.utils.data.DataLoader(dataset=test_dataset, batch_size=bs, shuffle=False)"
   ]
  },
  {
   "cell_type": "code",
   "execution_count": 4,
   "id": "0f43a6fe",
   "metadata": {},
   "outputs": [],
   "source": [
    "# build model\n",
    "mlp = MLPClassifier(x_dim=784, h_dim1= 256, h_dim2=64, out_dim=10)\n",
    "if torch.cuda.is_available():\n",
    "    mlp.cuda()"
   ]
  },
  {
   "cell_type": "code",
   "execution_count": 5,
   "id": "595505eb",
   "metadata": {},
   "outputs": [],
   "source": [
    "optimizer = optim.Adam(mlp.parameters(), lr=0.01)"
   ]
  },
  {
   "cell_type": "code",
   "execution_count": 6,
   "id": "7675e1ac",
   "metadata": {},
   "outputs": [],
   "source": [
    "def train(epoch):\n",
    "    mlp.train()\n",
    "    train_loss = 0\n",
    "    num_correct_tot = 0\n",
    "    for batch_idx, (data, target) in enumerate(train_loader):\n",
    "        if torch.cuda.is_available():\n",
    "            data = data.cuda()\n",
    "            target = target.cuda()\n",
    "        optimizer.zero_grad()\n",
    "        \n",
    "        preds = mlp.forward(data.view(-1, 784)).argmax(1)\n",
    "        num_correct = torch.sum(preds == target)\n",
    "        num_correct_tot += num_correct\n",
    "        \n",
    "        #h1, h2, preds = mlp(data.reshape(data.shape[0], 784), return_latent=True)\n",
    "        loss = mlp.loss_function(data, target)\n",
    "        \n",
    "        loss.backward()\n",
    "        train_loss += loss.item()\n",
    "        optimizer.step()\n",
    "        \n",
    "        if batch_idx % 100 == 0:\n",
    "            print('Train Epoch: {} [{}/{} ({:.0f}%)]\\tLoss: {:.4f}\\tAccuracy: {:.2f}'.format(\n",
    "                epoch, batch_idx * len(data), len(train_loader.dataset),\n",
    "                100. * batch_idx / len(train_loader), loss.item() / len(data), 100 * num_correct / data.shape[0]))\n",
    "            \n",
    "    print('====> Epoch: {} Average loss: {:.4f} Average acc: {:.2f}'.format(\n",
    "                epoch, train_loss / len(train_loader.dataset),\n",
    "                100 * num_correct_tot / len(train_loader.dataset)))\n",
    "    return train_loss / len(train_loader.dataset), 100 * num_correct_tot / len(train_loader.dataset)\n",
    "\n",
    "def test():\n",
    "    mlp.eval()\n",
    "    test_loss= 0\n",
    "    num_correct = 0\n",
    "    with torch.no_grad():\n",
    "        for data, target in test_loader:\n",
    "            if torch.cuda.is_available():\n",
    "                data = data.cuda()\n",
    "                target = target.cuda()\n",
    "            #preds = mlp(data.reshape(data.shape[0], 784))\n",
    "            preds = mlp.forward(data.view(-1, 784)).argmax(1)\n",
    "            num_correct += torch.sum(preds == target)\n",
    "            # sum up batch loss\n",
    "            test_loss += mlp.loss_function(data, target).item()\n",
    "        \n",
    "    test_loss /= len(test_loader.dataset)\n",
    "    test_acc = 100 * num_correct / len(test_loader.dataset)\n",
    "    print('====> Test set loss: {:.4f} Test Set acc: {:.2f}'.format(test_loss, test_acc))\n",
    "    return test_loss, test_acc"
   ]
  },
  {
   "cell_type": "code",
   "execution_count": 7,
   "id": "05ecf74f",
   "metadata": {},
   "outputs": [],
   "source": [
    "test_losses = []\n",
    "test_accs = []\n",
    "train_losses = []\n",
    "train_accs = []\n",
    "epochs = range(1, 21)"
   ]
  },
  {
   "cell_type": "code",
   "execution_count": 8,
   "id": "c106a6f9",
   "metadata": {},
   "outputs": [
    {
     "name": "stderr",
     "output_type": "stream",
     "text": [
      "C:\\Users\\AlexGura\\Documents\\Research\\Inversion\\classifier.py:20: UserWarning: Implicit dimension choice for log_softmax has been deprecated. Change the call to include dim=X as an argument.\n",
      "  out = F.log_softmax(self.fc3(h2))\n"
     ]
    },
    {
     "name": "stdout",
     "output_type": "stream",
     "text": [
      "Train Epoch: 1 [0/60000 (0%)]\tLoss: 0.0187\tAccuracy: 15.62\n",
      "Train Epoch: 1 [12800/60000 (21%)]\tLoss: 0.0015\tAccuracy: 96.09\n",
      "Train Epoch: 1 [25600/60000 (43%)]\tLoss: 0.0014\tAccuracy: 95.31\n",
      "Train Epoch: 1 [38400/60000 (64%)]\tLoss: 0.0019\tAccuracy: 92.97\n",
      "Train Epoch: 1 [51200/60000 (85%)]\tLoss: 0.0015\tAccuracy: 95.31\n",
      "====> Epoch: 1 Average loss: 0.0022 Average acc: 92.70\n",
      "====> Test set loss: 0.0014 Test Set acc: 95.42\n",
      "Train Epoch: 2 [0/60000 (0%)]\tLoss: 0.0012\tAccuracy: 96.09\n",
      "Train Epoch: 2 [12800/60000 (21%)]\tLoss: 0.0012\tAccuracy: 95.31\n",
      "Train Epoch: 2 [25600/60000 (43%)]\tLoss: 0.0005\tAccuracy: 98.44\n",
      "Train Epoch: 2 [38400/60000 (64%)]\tLoss: 0.0007\tAccuracy: 96.88\n",
      "Train Epoch: 2 [51200/60000 (85%)]\tLoss: 0.0018\tAccuracy: 92.97\n",
      "====> Epoch: 2 Average loss: 0.0013 Average acc: 95.74\n",
      "====> Test set loss: 0.0013 Test Set acc: 95.85\n",
      "Train Epoch: 3 [0/60000 (0%)]\tLoss: 0.0009\tAccuracy: 96.09\n",
      "Train Epoch: 3 [12800/60000 (21%)]\tLoss: 0.0008\tAccuracy: 96.88\n",
      "Train Epoch: 3 [25600/60000 (43%)]\tLoss: 0.0008\tAccuracy: 97.66\n",
      "Train Epoch: 3 [38400/60000 (64%)]\tLoss: 0.0024\tAccuracy: 92.19\n",
      "Train Epoch: 3 [51200/60000 (85%)]\tLoss: 0.0006\tAccuracy: 97.66\n",
      "====> Epoch: 3 Average loss: 0.0011 Average acc: 96.52\n",
      "====> Test set loss: 0.0014 Test Set acc: 95.48\n",
      "Train Epoch: 4 [0/60000 (0%)]\tLoss: 0.0008\tAccuracy: 94.53\n",
      "Train Epoch: 4 [12800/60000 (21%)]\tLoss: 0.0006\tAccuracy: 97.66\n",
      "Train Epoch: 4 [25600/60000 (43%)]\tLoss: 0.0010\tAccuracy: 95.31\n",
      "Train Epoch: 4 [38400/60000 (64%)]\tLoss: 0.0009\tAccuracy: 96.09\n",
      "Train Epoch: 4 [51200/60000 (85%)]\tLoss: 0.0019\tAccuracy: 93.75\n",
      "====> Epoch: 4 Average loss: 0.0009 Average acc: 96.84\n",
      "====> Test set loss: 0.0011 Test Set acc: 96.51\n",
      "Train Epoch: 5 [0/60000 (0%)]\tLoss: 0.0010\tAccuracy: 98.44\n",
      "Train Epoch: 5 [12800/60000 (21%)]\tLoss: 0.0010\tAccuracy: 96.88\n",
      "Train Epoch: 5 [25600/60000 (43%)]\tLoss: 0.0005\tAccuracy: 97.66\n",
      "Train Epoch: 5 [38400/60000 (64%)]\tLoss: 0.0013\tAccuracy: 93.75\n",
      "Train Epoch: 5 [51200/60000 (85%)]\tLoss: 0.0014\tAccuracy: 97.66\n",
      "====> Epoch: 5 Average loss: 0.0009 Average acc: 97.11\n",
      "====> Test set loss: 0.0013 Test Set acc: 95.96\n",
      "Train Epoch: 6 [0/60000 (0%)]\tLoss: 0.0010\tAccuracy: 97.66\n",
      "Train Epoch: 6 [12800/60000 (21%)]\tLoss: 0.0003\tAccuracy: 99.22\n",
      "Train Epoch: 6 [25600/60000 (43%)]\tLoss: 0.0008\tAccuracy: 96.88\n",
      "Train Epoch: 6 [38400/60000 (64%)]\tLoss: 0.0008\tAccuracy: 97.66\n",
      "Train Epoch: 6 [51200/60000 (85%)]\tLoss: 0.0006\tAccuracy: 96.88\n",
      "====> Epoch: 6 Average loss: 0.0009 Average acc: 96.99\n",
      "====> Test set loss: 0.0011 Test Set acc: 96.77\n",
      "Train Epoch: 7 [0/60000 (0%)]\tLoss: 0.0005\tAccuracy: 98.44\n",
      "Train Epoch: 7 [12800/60000 (21%)]\tLoss: 0.0012\tAccuracy: 96.88\n",
      "Train Epoch: 7 [25600/60000 (43%)]\tLoss: 0.0010\tAccuracy: 95.31\n",
      "Train Epoch: 7 [38400/60000 (64%)]\tLoss: 0.0013\tAccuracy: 95.31\n",
      "Train Epoch: 7 [51200/60000 (85%)]\tLoss: 0.0009\tAccuracy: 96.09\n",
      "====> Epoch: 7 Average loss: 0.0008 Average acc: 97.49\n",
      "====> Test set loss: 0.0012 Test Set acc: 96.50\n",
      "Train Epoch: 8 [0/60000 (0%)]\tLoss: 0.0004\tAccuracy: 98.44\n",
      "Train Epoch: 8 [12800/60000 (21%)]\tLoss: 0.0006\tAccuracy: 97.66\n",
      "Train Epoch: 8 [25600/60000 (43%)]\tLoss: 0.0010\tAccuracy: 98.44\n",
      "Train Epoch: 8 [38400/60000 (64%)]\tLoss: 0.0011\tAccuracy: 93.75\n",
      "Train Epoch: 8 [51200/60000 (85%)]\tLoss: 0.0008\tAccuracy: 98.44\n",
      "====> Epoch: 8 Average loss: 0.0008 Average acc: 97.45\n",
      "====> Test set loss: 0.0011 Test Set acc: 96.73\n",
      "Train Epoch: 9 [0/60000 (0%)]\tLoss: 0.0003\tAccuracy: 99.22\n",
      "Train Epoch: 9 [12800/60000 (21%)]\tLoss: 0.0009\tAccuracy: 98.44\n",
      "Train Epoch: 9 [25600/60000 (43%)]\tLoss: 0.0008\tAccuracy: 97.66\n",
      "Train Epoch: 9 [38400/60000 (64%)]\tLoss: 0.0005\tAccuracy: 97.66\n",
      "Train Epoch: 9 [51200/60000 (85%)]\tLoss: 0.0003\tAccuracy: 97.66\n",
      "====> Epoch: 9 Average loss: 0.0007 Average acc: 97.61\n",
      "====> Test set loss: 0.0012 Test Set acc: 96.59\n",
      "Train Epoch: 10 [0/60000 (0%)]\tLoss: 0.0005\tAccuracy: 98.44\n",
      "Train Epoch: 10 [12800/60000 (21%)]\tLoss: 0.0011\tAccuracy: 96.88\n",
      "Train Epoch: 10 [25600/60000 (43%)]\tLoss: 0.0008\tAccuracy: 96.09\n",
      "Train Epoch: 10 [38400/60000 (64%)]\tLoss: 0.0008\tAccuracy: 98.44\n",
      "Train Epoch: 10 [51200/60000 (85%)]\tLoss: 0.0012\tAccuracy: 96.09\n",
      "====> Epoch: 10 Average loss: 0.0008 Average acc: 97.49\n",
      "====> Test set loss: 0.0014 Test Set acc: 97.00\n",
      "Train Epoch: 11 [0/60000 (0%)]\tLoss: 0.0006\tAccuracy: 99.22\n",
      "Train Epoch: 11 [12800/60000 (21%)]\tLoss: 0.0018\tAccuracy: 96.09\n",
      "Train Epoch: 11 [25600/60000 (43%)]\tLoss: 0.0006\tAccuracy: 99.22\n",
      "Train Epoch: 11 [38400/60000 (64%)]\tLoss: 0.0008\tAccuracy: 97.66\n",
      "Train Epoch: 11 [51200/60000 (85%)]\tLoss: 0.0007\tAccuracy: 98.44\n",
      "====> Epoch: 11 Average loss: 0.0007 Average acc: 97.68\n",
      "====> Test set loss: 0.0015 Test Set acc: 96.28\n",
      "Train Epoch: 12 [0/60000 (0%)]\tLoss: 0.0003\tAccuracy: 98.44\n",
      "Train Epoch: 12 [12800/60000 (21%)]\tLoss: 0.0003\tAccuracy: 98.44\n",
      "Train Epoch: 12 [25600/60000 (43%)]\tLoss: 0.0012\tAccuracy: 96.09\n",
      "Train Epoch: 12 [38400/60000 (64%)]\tLoss: 0.0006\tAccuracy: 98.44\n",
      "Train Epoch: 12 [51200/60000 (85%)]\tLoss: 0.0006\tAccuracy: 98.44\n",
      "====> Epoch: 12 Average loss: 0.0007 Average acc: 97.72\n",
      "====> Test set loss: 0.0016 Test Set acc: 96.14\n",
      "Train Epoch: 13 [0/60000 (0%)]\tLoss: 0.0006\tAccuracy: 96.88\n",
      "Train Epoch: 13 [12800/60000 (21%)]\tLoss: 0.0008\tAccuracy: 96.88\n",
      "Train Epoch: 13 [25600/60000 (43%)]\tLoss: 0.0002\tAccuracy: 100.00\n",
      "Train Epoch: 13 [38400/60000 (64%)]\tLoss: 0.0003\tAccuracy: 99.22\n",
      "Train Epoch: 13 [51200/60000 (85%)]\tLoss: 0.0005\tAccuracy: 99.22\n",
      "====> Epoch: 13 Average loss: 0.0007 Average acc: 98.01\n",
      "====> Test set loss: 0.0015 Test Set acc: 96.68\n",
      "Train Epoch: 14 [0/60000 (0%)]\tLoss: 0.0004\tAccuracy: 99.22\n",
      "Train Epoch: 14 [12800/60000 (21%)]\tLoss: 0.0004\tAccuracy: 99.22\n",
      "Train Epoch: 14 [25600/60000 (43%)]\tLoss: 0.0004\tAccuracy: 97.66\n",
      "Train Epoch: 14 [38400/60000 (64%)]\tLoss: 0.0004\tAccuracy: 97.66\n",
      "Train Epoch: 14 [51200/60000 (85%)]\tLoss: 0.0005\tAccuracy: 97.66\n",
      "====> Epoch: 14 Average loss: 0.0007 Average acc: 97.95\n",
      "====> Test set loss: 0.0016 Test Set acc: 96.45\n",
      "Train Epoch: 15 [0/60000 (0%)]\tLoss: 0.0002\tAccuracy: 98.44\n",
      "Train Epoch: 15 [12800/60000 (21%)]\tLoss: 0.0015\tAccuracy: 95.31\n",
      "Train Epoch: 15 [25600/60000 (43%)]\tLoss: 0.0006\tAccuracy: 96.88\n",
      "Train Epoch: 15 [38400/60000 (64%)]\tLoss: 0.0011\tAccuracy: 96.09\n",
      "Train Epoch: 15 [51200/60000 (85%)]\tLoss: 0.0021\tAccuracy: 96.09\n",
      "====> Epoch: 15 Average loss: 0.0007 Average acc: 98.06\n",
      "====> Test set loss: 0.0015 Test Set acc: 96.66\n",
      "Train Epoch: 16 [0/60000 (0%)]\tLoss: 0.0001\tAccuracy: 100.00\n",
      "Train Epoch: 16 [12800/60000 (21%)]\tLoss: 0.0005\tAccuracy: 98.44\n",
      "Train Epoch: 16 [25600/60000 (43%)]\tLoss: 0.0005\tAccuracy: 98.44\n",
      "Train Epoch: 16 [38400/60000 (64%)]\tLoss: 0.0004\tAccuracy: 98.44\n",
      "Train Epoch: 16 [51200/60000 (85%)]\tLoss: 0.0005\tAccuracy: 96.88\n",
      "====> Epoch: 16 Average loss: 0.0006 Average acc: 98.17\n",
      "====> Test set loss: 0.0021 Test Set acc: 96.30\n",
      "Train Epoch: 17 [0/60000 (0%)]\tLoss: 0.0013\tAccuracy: 96.88\n",
      "Train Epoch: 17 [12800/60000 (21%)]\tLoss: 0.0002\tAccuracy: 99.22\n",
      "Train Epoch: 17 [25600/60000 (43%)]\tLoss: 0.0003\tAccuracy: 99.22\n",
      "Train Epoch: 17 [38400/60000 (64%)]\tLoss: 0.0015\tAccuracy: 96.88\n",
      "Train Epoch: 17 [51200/60000 (85%)]\tLoss: 0.0002\tAccuracy: 99.22\n",
      "====> Epoch: 17 Average loss: 0.0007 Average acc: 97.97\n",
      "====> Test set loss: 0.0015 Test Set acc: 96.91\n",
      "Train Epoch: 18 [0/60000 (0%)]\tLoss: 0.0001\tAccuracy: 100.00\n",
      "Train Epoch: 18 [12800/60000 (21%)]\tLoss: 0.0006\tAccuracy: 97.66\n",
      "Train Epoch: 18 [25600/60000 (43%)]\tLoss: 0.0004\tAccuracy: 97.66\n",
      "Train Epoch: 18 [38400/60000 (64%)]\tLoss: 0.0005\tAccuracy: 98.44\n",
      "Train Epoch: 18 [51200/60000 (85%)]\tLoss: 0.0004\tAccuracy: 98.44\n",
      "====> Epoch: 18 Average loss: 0.0007 Average acc: 98.05\n",
      "====> Test set loss: 0.0019 Test Set acc: 95.98\n",
      "Train Epoch: 19 [0/60000 (0%)]\tLoss: 0.0014\tAccuracy: 94.53\n",
      "Train Epoch: 19 [12800/60000 (21%)]\tLoss: 0.0002\tAccuracy: 99.22\n",
      "Train Epoch: 19 [25600/60000 (43%)]\tLoss: 0.0001\tAccuracy: 100.00\n",
      "Train Epoch: 19 [38400/60000 (64%)]\tLoss: 0.0005\tAccuracy: 98.44\n",
      "Train Epoch: 19 [51200/60000 (85%)]\tLoss: 0.0001\tAccuracy: 100.00\n",
      "====> Epoch: 19 Average loss: 0.0006 Average acc: 98.19\n",
      "====> Test set loss: 0.0020 Test Set acc: 96.49\n",
      "Train Epoch: 20 [0/60000 (0%)]\tLoss: 0.0005\tAccuracy: 98.44\n",
      "Train Epoch: 20 [12800/60000 (21%)]\tLoss: 0.0017\tAccuracy: 97.66\n",
      "Train Epoch: 20 [25600/60000 (43%)]\tLoss: 0.0009\tAccuracy: 97.66\n"
     ]
    },
    {
     "name": "stdout",
     "output_type": "stream",
     "text": [
      "Train Epoch: 20 [38400/60000 (64%)]\tLoss: 0.0029\tAccuracy: 96.88\n",
      "Train Epoch: 20 [51200/60000 (85%)]\tLoss: 0.0019\tAccuracy: 96.09\n",
      "====> Epoch: 20 Average loss: 0.0008 Average acc: 98.07\n",
      "====> Test set loss: 0.0016 Test Set acc: 97.17\n"
     ]
    }
   ],
   "source": [
    "for epoch in epochs:\n",
    "    \n",
    "    train_loss, train_acc = train(epoch)\n",
    "    train_losses.append(train_loss)\n",
    "    train_accs.append(train_acc)\n",
    "    \n",
    "    test_loss, test_acc = test()\n",
    "    test_losses.append(test_loss)\n",
    "    test_accs.append(test_acc)\n",
    "    "
   ]
  },
  {
   "cell_type": "code",
   "execution_count": 9,
   "id": "0355079c",
   "metadata": {},
   "outputs": [
    {
     "data": {
      "text/plain": [
       "Text(0, 0.5, 'Accuracy')"
      ]
     },
     "execution_count": 9,
     "metadata": {},
     "output_type": "execute_result"
    },
    {
     "data": {
      "image/png": "[encoded data removed]",
      "text/plain": [
       "<Figure size 864x288 with 2 Axes>"
      ]
     },
     "metadata": {
      "needs_background": "light"
     },
     "output_type": "display_data"
    }
   ],
   "source": [
    "plt.rcParams[\"figure.figsize\"] = (12,4)\n",
    "fig, (ax1, ax2) = plt.subplots(1, 2)\n",
    "fig.suptitle('MLP Training Loss and Accuracy')\n",
    "x_ax = epochs\n",
    "ax1.plot(x_ax, train_losses, label=\"Train\")\n",
    "ax1.plot(x_ax, test_losses, label=\"Test\")\n",
    "ax2.plot(x_ax, train_accs, label=\"Train\")\n",
    "ax2.plot(x_ax, test_accs, label=\"Test\")\n",
    "ax1.legend()\n",
    "ax2.legend()\n",
    "ax1.set_xlabel(\"Epoch\")\n",
    "ax2.set_xlabel(\"Epoch\")\n",
    "ax1.set_ylabel(\"Loss\")\n",
    "ax2.set_ylabel(\"Accuracy\")"
   ]
  },
  {
   "cell_type": "code",
   "execution_count": 10,
   "id": "2269cd83",
   "metadata": {},
   "outputs": [],
   "source": [
    "torch.save(mlp, \"mlp.model\")"
   ]
  },
  {
   "cell_type": "code",
   "execution_count": 11,
   "id": "6bdbbe95",
   "metadata": {},
   "outputs": [],
   "source": [
    "mlp = torch.load(\"mlp.model\")"
   ]
  },
  {
   "cell_type": "code",
   "execution_count": 12,
   "id": "b0f946f2",
   "metadata": {},
   "outputs": [],
   "source": [
    "data, target = next(iter(test_loader))"
   ]
  },
  {
   "cell_type": "code",
   "execution_count": 13,
   "id": "2e97537c",
   "metadata": {},
   "outputs": [
    {
     "data": {
      "image/png": "[encoded data removed]",
      "text/plain": [
       "<Figure size 864x288 with 1 Axes>"
      ]
     },
     "metadata": {
      "needs_background": "light"
     },
     "output_type": "display_data"
    }
   ],
   "source": [
    "img_idx = 10\n",
    "img = data[img_idx][0]\n",
    "plt.imshow(img)\n",
    "plt.show()\n",
    "h1, h2, out = mlp.cpu().forward(data.view(-1, 784), return_latent=True)"
   ]
  },
  {
   "cell_type": "code",
   "execution_count": 14,
   "id": "3ad909b9",
   "metadata": {},
   "outputs": [],
   "source": [
    "encoded_dict = {\n",
    "    \"data\": data.reshape((data.shape[0], 784)),\n",
    "    \"h1\": h1,\n",
    "    \"h2\": h2,\n",
    "    \"out\": out,\n",
    "    \"target\": target\n",
    "}\n",
    "torch.save(encoded_dict, \"encoded_data.pt\")"
   ]
  },
  {
   "cell_type": "markdown",
   "id": "595738a9",
   "metadata": {},
   "source": [
    "##### "
   ]
  },
  {
   "cell_type": "code",
   "execution_count": 15,
   "id": "acecc2a8",
   "metadata": {},
   "outputs": [
    {
     "data": {
      "text/plain": [
       "tensor(0.0014, grad_fn=<DivBackward0>)"
      ]
     },
     "execution_count": 15,
     "metadata": {},
     "output_type": "execute_result"
    }
   ],
   "source": [
    "mlp.loss_function(data, target) / 128"
   ]
  },
  {
   "cell_type": "code",
   "execution_count": 14,
   "id": "d6b26219",
   "metadata": {},
   "outputs": [
    {
     "name": "stdout",
     "output_type": "stream",
     "text": [
      "tensor(0.9437)\n"
     ]
    }
   ],
   "source": [
    "with torch.no_grad():\n",
    "    num_correct = 0\n",
    "    num = 0\n",
    "    for i, (data, target) in enumerate(test_loader):\n",
    "        if torch.cuda.is_available():\n",
    "            data = data.cuda()\n",
    "            target = target.cuda()\n",
    "        preds = mlp.forward(data.view(-1, 784)).argmax(1)\n",
    "        num += preds.shape[0]\n",
    "        num_correct += torch.sum(preds == target)\n",
    "    print(num_correct / num)"
   ]
  },
  {
   "cell_type": "code",
   "execution_count": 44,
   "id": "c2f0554e",
   "metadata": {},
   "outputs": [],
   "source": [
    "# Get a new dataset of all zeros\n",
    "for digit in range(10):\n",
    "    data_digit = torch.cat([entry[0].reshape(1, 784) for entry in test_loader.dataset if entry[1] == digit])\n",
    "    h1_digit, h2_digit, out_digit = mlp.cpu().forward(data_digit, return_latent=True)\n",
    "    encoded_dict_digit = {\n",
    "        \"data\": data_digit,\n",
    "        \"h1\": h1_digit,\n",
    "        \"h2\": h2_digit,\n",
    "        \"out\": out_digit,\n",
    "    }\n",
    "    torch.save(encoded_dict_digit, f\"./digit_data/encoded_data_{digit}.pt\")"
   ]
  },
  {
   "cell_type": "code",
   "execution_count": 41,
   "id": "d4a02b91",
   "metadata": {},
   "outputs": [
    {
     "data": {
      "text/plain": [
       "<matplotlib.image.AxesImage at 0x1f7f0e163a0>"
      ]
     },
     "execution_count": 41,
     "metadata": {},
     "output_type": "execute_result"
    },
    {
     "data": {
      "image/png": "[encoded data removed]",
      "text/plain": [
       "<Figure size 864x288 with 1 Axes>"
      ]
     },
     "metadata": {
      "needs_background": "light"
     },
     "output_type": "display_data"
    }
   ],
   "source": [
    "plt.imshow(data_zeros[1].reshape(28,28))"
   ]
  },
  {
   "cell_type": "code",
   "execution_count": null,
   "id": "89ebde2a",
   "metadata": {},
   "outputs": [],
   "source": []
  },
  {
   "cell_type": "code",
   "execution_count": null,
   "id": "1ebd1070",
   "metadata": {},
   "outputs": [],
   "source": []
  },
  {
   "cell_type": "code",
   "execution_count": null,
   "id": "1bd69e7c",
   "metadata": {},
   "outputs": [],
   "source": []
  }
 ],
 "metadata": {
  "kernelspec": {
   "display_name": "Python 3",
   "language": "python",
   "name": "python3"
  },
  "language_info": {
   "codemirror_mode": {
    "name": "ipython",
    "version": 3
   },
   "file_extension": ".py",
   "mimetype": "text/x-python",
   "name": "python",
   "nbconvert_exporter": "python",
   "pygments_lexer": "ipython3",
   "version": "3.8.8"
  }
 },
 "nbformat": 4,
 "nbformat_minor": 5
}
